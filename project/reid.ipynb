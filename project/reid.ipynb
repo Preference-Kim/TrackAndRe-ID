{
 "cells": [
  {
   "cell_type": "code",
   "execution_count": 1,
   "metadata": {},
   "outputs": [],
   "source": [
    "import sys\n",
    "sys.path.append(\"/home/sunhokim/Documents/mygit/TrackAndRe-ID\")\n",
    "sys.path.append(\"/home/sunhokim/Documents/mygit/TrackAndRe-ID/mylibrary\")\n",
    "import os\n",
    "from os.path import isfile, join\n",
    "\n",
    "import cv2\n",
    "import numpy as np\n",
    "\n",
    "import torchreid"
   ]
  },
  {
   "cell_type": "markdown",
   "metadata": {},
   "source": [
    "## Buf Loader"
   ]
  },
  {
   "cell_type": "code",
   "execution_count": 2,
   "metadata": {},
   "outputs": [],
   "source": [
    "def list_images_in_directory(directory_path):\n",
    "    \"\"\"\n",
    "    List all image files in the specified directory.\n",
    "\n",
    "    :param directory_path: The path to the directory containing images.\n",
    "    :return: A list of image file paths.\n",
    "    \"\"\"\n",
    "    image_files = [join(directory_path, f) for f in os.listdir(directory_path) if isfile(join(directory_path, f))]\n",
    "\n",
    "    # Filter the image files based on common image file extensions (you can customize this list).\n",
    "    image_extensions = ['.jpg', '.jpeg', '.png', '.gif', '.bmp', '.tiff']\n",
    "    image_files = [f for f in image_files if any(f.lower().endswith(ext) for ext in image_extensions)]\n",
    "\n",
    "    return image_files\n",
    "\n",
    "def load_image(file_path):\n",
    "    # Function to load an image from the specified file_path.\n",
    "    # You can load the image in grayscale using cv2.IMREAD_GRAYSCALE or in color using cv2.IMREAD_COLOR.\n",
    "    image = cv2.imread(file_path, cv2.IMREAD_COLOR)\n",
    "\n",
    "    if image is None:\n",
    "        # If the image cannot be loaded, print an error message.\n",
    "        print(f\"Unable to load the image: {file_path}\")\n",
    "        return None\n",
    "\n",
    "    # Convert the image from BGR color format (used by OpenCV) to RGB color format.\n",
    "    image = cv2.cvtColor(image, cv2.COLOR_BGR2RGB)\n",
    "\n",
    "    return image"
   ]
  },
  {
   "cell_type": "code",
   "execution_count": 26,
   "metadata": {},
   "outputs": [],
   "source": [
    "# def split_list_into_batches(input_list, batch_size):\n",
    "#     \"\"\"\n",
    "#     Split a list into batches of a specified size.\n",
    "\n",
    "#     :param input_list: The input list to be split.\n",
    "#     :param batch_size: The size of each batch.\n",
    "#     :return: A list of batches, where each batch is a list.\n",
    "#     \"\"\"\n",
    "#     batched_list = []\n",
    "#     for i in range(0, len(input_list), batch_size):\n",
    "#         batched_list.append(input_list[i:i+batch_size])\n",
    "#     return batched_list\n",
    "\n",
    "# import os\n",
    "import re\n",
    "\n",
    "def split_list_into_batches(image_list):\n",
    "    \"\"\"\n",
    "    Split a list of image files into batches based on 'id{index}_' part of the file names.\n",
    "    \n",
    "    :param image_list: A list of image file paths.\n",
    "    :return: A dictionary where keys are 'index' values, and values are lists of file paths with the same 'id{index}_'.\n",
    "    \"\"\"\n",
    "    batches = {}  # Dictionary to store batches\n",
    "    for image_path in image_list:\n",
    "        # Use regular expression to extract 'index' from the file name\n",
    "        match = re.search(r'id(\\d+)_', image_path)\n",
    "        if match:\n",
    "            index = int(match.group(1))  # Extract the 'index'\n",
    "            if index in batches:\n",
    "                batches[index].append(image_path)\n",
    "            else:\n",
    "                batches[index] = [image_path]\n",
    "    \n",
    "    return batches\n"
   ]
  },
  {
   "cell_type": "markdown",
   "metadata": {},
   "source": [
    "## Feature Extractor"
   ]
  },
  {
   "cell_type": "code",
   "execution_count": 27,
   "metadata": {},
   "outputs": [
    {
     "name": "stderr",
     "output_type": "stream",
     "text": [
      "/home/sunhokim/Documents/mygit/TrackAndRe-ID/torchreid/torchreid/utils/tools.py:43: UserWarning: No file found at \"weights/reid/imageNet-market.pth.tar-60\"\n",
      "  warnings.warn('No file found at \"{}\"'.format(fpath))\n"
     ]
    },
    {
     "name": "stdout",
     "output_type": "stream",
     "text": [
      "Successfully loaded imagenet pretrained weights from \"/home/sunhokim/.cache/torch/checkpoints/osnet_ain_x1_0_imagenet.pth\"\n",
      "** The following layers are discarded due to unmatched keys or layer size: ['classifier.weight', 'classifier.bias']\n",
      "Model: osnet_ain_x1_0\n",
      "- params: 2,193,616\n",
      "- flops: 978,878,352\n"
     ]
    }
   ],
   "source": [
    "from torchreid.utils import FeatureExtractor\n",
    "\n",
    "extractor = FeatureExtractor(\n",
    "    model_name='osnet_ain_x1_0',\n",
    "    model_path='weights/reid/imageNet-market.pth.tar-60',\n",
    "    device='cuda'\n",
    ")\n",
    "\n",
    "directory_path = '/home/sunhokim/Documents/mygit/TrackAndRe-ID/images/buf-s/0'\n",
    "image_list = list_images_in_directory(directory_path)\n",
    "batches = split_list_into_batches(image_list)\n",
    "\n",
    "features = {}\n",
    "for key, value in batches.items():\n",
    "    features[key]=extractor(value)"
   ]
  },
  {
   "cell_type": "code",
   "execution_count": 30,
   "metadata": {},
   "outputs": [
    {
     "name": "stdout",
     "output_type": "stream",
     "text": [
      "33\n",
      "dict_keys([35, 54, 82, 63, 66, 40, 26, 107, 93, 65, 80, 64, 95, 30, 55, 127, 52, 105, 133, 114, 50, 100, 14, 134, 44, 129, 13, 53, 18, 32, 31, 124, 120])\n"
     ]
    },
    {
     "data": {
      "text/plain": [
       "torch.Size([199, 512])"
      ]
     },
     "execution_count": 30,
     "metadata": {},
     "output_type": "execute_result"
    }
   ],
   "source": [
    "print(len(features)) # output (?, 512)\n",
    "print(features.keys())\n",
    "features[35].size()"
   ]
  },
  {
   "cell_type": "code",
   "execution_count": 37,
   "metadata": {},
   "outputs": [
    {
     "name": "stdout",
     "output_type": "stream",
     "text": [
      "torch.Size([97, 20])\n",
      "0.3166714906692505\n",
      "0.05854642391204834\n"
     ]
    }
   ],
   "source": [
    "from torchreid import metrics\n",
    "import torch\n",
    "\n",
    "dismat = metrics.compute_distance_matrix(features[82], features[134], metric='cosine')\n",
    "print(dismat.size())\n",
    "print(torch.max(dismat).item())\n",
    "print(torch.min(dismat).item())"
   ]
  },
  {
   "cell_type": "markdown",
   "metadata": {},
   "source": [
    "minimum distance가 .1 미만이면 합쳐도 될듯?"
   ]
  },
  {
   "cell_type": "code",
   "execution_count": null,
   "metadata": {},
   "outputs": [],
   "source": []
  }
 ],
 "metadata": {
  "kernelspec": {
   "display_name": "reid",
   "language": "python",
   "name": "python3"
  },
  "language_info": {
   "codemirror_mode": {
    "name": "ipython",
    "version": 3
   },
   "file_extension": ".py",
   "mimetype": "text/x-python",
   "name": "python",
   "nbconvert_exporter": "python",
   "pygments_lexer": "ipython3",
   "version": "3.8.18"
  }
 },
 "nbformat": 4,
 "nbformat_minor": 2
}
